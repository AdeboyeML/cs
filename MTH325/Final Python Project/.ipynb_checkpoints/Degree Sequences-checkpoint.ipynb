{
 "cells": [
  {
   "cell_type": "markdown",
   "metadata": {},
   "source": [
    "<h1>Degree Sequences</h1>"
   ]
  },
  {
   "cell_type": "markdown",
   "metadata": {},
   "source": [
    "The purpose of this project is for you to find the degree sequence of a given graph and then use this to determine properties of the graph.  In addition, you will find the in-degree and out-degree of a specified vertex in a directed graph and use this to determine properties of the digraph.  Lastly, you will implement the Havel-Hakimi algorithm on a given sequence of integers. The\n",
    "ONLY IMPORT ALLOWED is  \"copy\" and you are ONLY allowed to use the copy.deepcopy() method from this package.  All of your code should be 'from scracth.'  "
   ]
  },
  {
   "cell_type": "markdown",
   "metadata": {},
   "source": [
    "<h2>Objectives</h2>"
   ]
  },
  {
   "cell_type": "markdown",
   "metadata": {},
   "source": [
    "<h3>deg_seq</h3>"
   ]
  },
  {
   "cell_type": "markdown",
   "metadata": {},
   "source": [
    "You are to write a function \"deg_seq(graph)\" that takes in a graph as its input, and then returns the degree\n",
    "sequence of the graph as a list."
   ]
  },
  {
   "cell_type": "code",
   "execution_count": 207,
   "metadata": {},
   "outputs": [],
   "source": [
    "def deg_seq(graph):\n",
    "    vert = []  # empty list created to hold all the vertices of the graph\n",
    "    degreeSeq = []  # final degree sequence we will return at the end of the function\n",
    "    for vertex in graph:  # populates the list \"vert\", which just contains all the vertices of the graph\n",
    "        vert.append(vertex)\n",
    "\n",
    "    \n",
    "    for vertex in range(0, len(vert)):  # loops through the amount of vertices in \"vert\"\n",
    "        currDegree = 0  # this integer keeps track of the degree of the current vertex we are looping through. Notice how it resets to 0 everytime a new vertex is looped through\n",
    "        for neighbor in graph:  # this loop then checks every vertex and looks at it's neighbors. If there is a neighbor that matches the vertex we are on, then we add 1 to the degree of the current vertex\n",
    "            if vert[vertex] in graph[neighbor]:\n",
    "                currDegree += 1\n",
    "        degreeSeq.append(currDegree) # current degree is added to the list degreeSeq, and the loop starts over for the next vertex\n",
    "    \n",
    "    degreeSeq.sort(reverse = True)  # sorts the list in descending order\n",
    "    \n",
    "    return degreeSeq  # returns the final degree sequence\n",
    "    "
   ]
  },
  {
   "cell_type": "markdown",
   "metadata": {},
   "source": [
    "After compiling the above cell, you should be able to compile the following cell and obtain the desired outputs."
   ]
  },
  {
   "cell_type": "code",
   "execution_count": 208,
   "metadata": {},
   "outputs": [
    {
     "name": "stdout",
     "output_type": "stream",
     "text": [
      "[2, 2, 2] [3, 2, 2, 1]\n",
      "\n",
      "[4, 1, 1, 1, 1]\n"
     ]
    }
   ],
   "source": [
    "print(deg_seq({\"A\" : [\"B\", \"C\"], \"B\" : [\"A\", \"C\"], \"C\" : [\"A\", \"B\"]}),\n",
    "      deg_seq({\"A\" : [\"B\", \"C\"], \"B\" : [\"A\", \"C\"], \"C\" : [\"A\", \"B\", \"D\"], \"D\" : [\"C\"]}))"
   ]
  },
  {
   "cell_type": "markdown",
   "metadata": {},
   "source": [
    "This should return\n",
    "\n",
    "[2,2,2]   [3,2,2,1]"
   ]
  },
  {
   "cell_type": "markdown",
   "metadata": {},
   "source": [
    "<h3>euler</h3>"
   ]
  },
  {
   "cell_type": "markdown",
   "metadata": {},
   "source": [
    "Write a function \"euler(graph)\" that takes in a connected graph as its input, and then determines if it is\n",
    "Eulerian or not."
   ]
  },
  {
   "cell_type": "code",
   "execution_count": 209,
   "metadata": {},
   "outputs": [],
   "source": [
    "def euler(graph):\n",
    "    \n",
    "    for d in deg_seq(graph): # uses function defined earlier to find degree sequence of graph and loops through it\n",
    "        if(d % 2 != 0):  # if one of the vertices has odd degree then return False\n",
    "            return False\n",
    "    \n",
    "    return True  # otherwise, return True. We know that this graph is Eulerian because every vertex has even degree. "
   ]
  },
  {
   "cell_type": "markdown",
   "metadata": {},
   "source": [
    "After compiling the above cell, you should be able to compile the following cell and obtain the desired outputs."
   ]
  },
  {
   "cell_type": "code",
   "execution_count": 210,
   "metadata": {},
   "outputs": [
    {
     "name": "stdout",
     "output_type": "stream",
     "text": [
      "True False\n"
     ]
    }
   ],
   "source": [
    "print(euler({\"A\" : [\"B\", \"C\"], \"B\" : [\"A\", \"C\"], \"C\" : [\"A\", \"B\"]}),\n",
    "      euler({\"A\" : [\"B\", \"C\"], \"B\" : [\"A\", \"C\"], \"C\" : [\"A\", \"B\", \"D\"], \"D\" : [\"C\"]}))"
   ]
  },
  {
   "cell_type": "markdown",
   "metadata": {},
   "source": [
    "This should return \n",
    "\n",
    "True   False"
   ]
  },
  {
   "cell_type": "markdown",
   "metadata": {},
   "source": [
    "<h3>in_out</h3>"
   ]
  },
  {
   "cell_type": "markdown",
   "metadata": {},
   "source": [
    "Write a function \"in_out(digraph, vert)\" that takes in a directed graph and a vertex as its input, and\n",
    "then returns the in-degree and out-degree of that vertex in the directed graph in the form of a list with the first\n",
    "entry as the in-degree and second entry as the out-degree."
   ]
  },
  {
   "cell_type": "code",
   "execution_count": 211,
   "metadata": {},
   "outputs": [],
   "source": [
    "def in_out(digraph, vert):\n",
    "    inOutDegree = [] # final list of degrees that will be returned at the end of the function\n",
    "    \n",
    "    # this for loop finds the in degree of a vertex\n",
    "    inDegree = 0\n",
    "    for v in digraph:\n",
    "        if vert in digraph[v]:\n",
    "            inDegree += 1\n",
    "    inOutDegree.append(inDegree)\n",
    "    \n",
    "    # this for loop finds the out degree of a vertex\n",
    "    outDegree = 0\n",
    "    for v in digraph[vert]:  \n",
    "        outDegree += 1\n",
    "    inOutDegree.append(outDegree) \n",
    "    \n",
    "    return inOutDegree"
   ]
  },
  {
   "cell_type": "markdown",
   "metadata": {},
   "source": [
    "After compiling the above cell, you should be able to compile the following cell and obtain the desired outputs."
   ]
  },
  {
   "cell_type": "code",
   "execution_count": 212,
   "metadata": {},
   "outputs": [
    {
     "name": "stdout",
     "output_type": "stream",
     "text": [
      "[3, 3] [3, 0]\n"
     ]
    }
   ],
   "source": [
    "print(in_out({\"A\" : [\"A\", \"B\", \"C\"], \"B\" : [\"A\"], \"C\" : [\"A\"]}, \"A\"),\n",
    "      in_out({\"A\" : [\"B\", \"D\"], \"B\" : [\"A\", \"D\"], \"C\" : [\"C\", \"D\"], \"D\" : []}, \"D\"))"
   ]
  },
  {
   "cell_type": "markdown",
   "metadata": {},
   "source": [
    "This should return\n",
    "\n",
    "[3,3]    [3,0]"
   ]
  },
  {
   "cell_type": "markdown",
   "metadata": {},
   "source": [
    "<h3>dir_euler</h3>"
   ]
  },
  {
   "cell_type": "markdown",
   "metadata": {},
   "source": [
    "Write a function \"dir_euler(digraph)\" that takes in a connected, directed graph as its input, and then\n",
    "determines whether or not a directed Eulerian circuit exists."
   ]
  },
  {
   "cell_type": "code",
   "execution_count": 213,
   "metadata": {},
   "outputs": [],
   "source": [
    "def dir_euler(digraph): \n",
    "    vertices = []  # empty list to hold vertices\n",
    "    for v in digraph:  # loops through every vertice in the digraph and appends them to a list\n",
    "        vertices.append(v) \n",
    "    \n",
    "    isEuler = False  # boolean that will determine if this graph is eulerian\n",
    "    for v in vertices:  # loops through all the vertices\n",
    "        inOut = in_out(digraph, v)  # finds the inOut degree for each vertex\n",
    "        if((inOut[0] and inOut[1] != 0) and inOut[0] == inOut[1]):  # this checks that every vertex's in and out degree does not equal zero and that the in and out degree equal each other\n",
    "            isEuler = True\n",
    "        else:  # otherwise, this digraph does not have a eulerian and therefore is not eulerian. return false and exit program\n",
    "            return False\n",
    "            \n",
    "            \n",
    "    return isEuler # return the boolean. If the program gets this far then the digraph is in fact eulerian. "
   ]
  },
  {
   "cell_type": "markdown",
   "metadata": {},
   "source": [
    "After compiling the above cell, you should be able to compile the following cell and obtain the desired outputs."
   ]
  },
  {
   "cell_type": "code",
   "execution_count": 214,
   "metadata": {},
   "outputs": [
    {
     "name": "stdout",
     "output_type": "stream",
     "text": [
      "True False\n"
     ]
    }
   ],
   "source": [
    "print(dir_euler({\"A\" : [\"A\", \"B\", \"C\"], \"B\" : [\"A\"], \"C\" : [\"A\"]}),\n",
    "      dir_euler({\"A\" : [\"B\", \"D\"], \"B\" : [\"A\", \"D\"], \"C\" : [\"C\", \"D\"], \"D\" : []}))"
   ]
  },
  {
   "cell_type": "markdown",
   "metadata": {},
   "source": [
    "This should return\n",
    "\n",
    "True    False"
   ]
  },
  {
   "cell_type": "markdown",
   "metadata": {},
   "source": [
    "<h3>hav_hak</h3>"
   ]
  },
  {
   "cell_type": "markdown",
   "metadata": {},
   "source": [
    "Write a function \"hav_hak(lst)\" that takes in a list of non-increasing integers as its input, and then\n",
    "determines whether or not this is the degree sequence of a graph."
   ]
  },
  {
   "cell_type": "code",
   "execution_count": 215,
   "metadata": {},
   "outputs": [],
   "source": [
    "def hav_hak(lst):\n",
    "    while(len(lst) > 0): # while there is still list left, keep doing the havil-hakimi algorithm\n",
    "        firstVal = lst[0]  # holds the firstVal of the list, important for figuring out how many numbers to subtract 1 from\n",
    "        lst.remove(lst[0])  # removes the first val, havil-hakimi algorithm starts\n",
    "        for num in range(0, firstVal):  # loops through the list the amount of times that the firstVal dictates\n",
    "            lst[num] -= 1  # minuses 1 from each of these numbers\n",
    "            if lst[num] < 0:  # if any number is less then zero right now, return false immediately because this degree sequence is not a graph\n",
    "                return False\n",
    "        lst.sort(reverse = True)  # sorts the list in non-increasing order\n",
    "                \n",
    "    return True  # if the inputted degree sequence got through the while loop without returning false then it is in fact a real graph!"
   ]
  },
  {
   "cell_type": "markdown",
   "metadata": {},
   "source": [
    "After compiling the above cell, you should be able to compile the following cell and obtain the desired outputs."
   ]
  },
  {
   "cell_type": "code",
   "execution_count": 216,
   "metadata": {},
   "outputs": [
    {
     "name": "stdout",
     "output_type": "stream",
     "text": [
      "False True\n"
     ]
    }
   ],
   "source": [
    "print(hav_hak([3,3,3,3,3]),\n",
    "      hav_hak([3,3,2,2,2,2]))"
   ]
  },
  {
   "cell_type": "markdown",
   "metadata": {},
   "source": [
    "This should return\n",
    "\n",
    "False     True"
   ]
  },
  {
   "cell_type": "code",
   "execution_count": null,
   "metadata": {},
   "outputs": [],
   "source": []
  }
 ],
 "metadata": {
  "anaconda-cloud": {},
  "kernelspec": {
   "display_name": "Python 3",
   "language": "python",
   "name": "python3"
  },
  "language_info": {
   "codemirror_mode": {
    "name": "ipython",
    "version": 3
   },
   "file_extension": ".py",
   "mimetype": "text/x-python",
   "name": "python",
   "nbconvert_exporter": "python",
   "pygments_lexer": "ipython3",
   "version": "3.7.0"
  }
 },
 "nbformat": 4,
 "nbformat_minor": 1
}
