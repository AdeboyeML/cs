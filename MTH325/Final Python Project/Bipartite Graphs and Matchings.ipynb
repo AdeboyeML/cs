{
 "cells": [
  {
   "cell_type": "markdown",
   "metadata": {},
   "source": [
    "<h1>Bipartite Graphs and Matchings</h1>"
   ]
  },
  {
   "cell_type": "markdown",
   "metadata": {},
   "source": [
    "The purpose of this project is for you to write code that tests whether or not a given bipartite graph has\n",
    "a perfect matching. In addition, you will write code that determines whether or not a graph is bipartite. The\n",
    "ONLY IMPORT ALLOWED is  \"copy\" and you are ONLY allowed to use the copy.deepcopy() method from this package.  All of your code should be 'from scracth.'  "
   ]
  },
  {
   "cell_type": "markdown",
   "metadata": {},
   "source": [
    "<h2>Objectives</h2>"
   ]
  },
  {
   "cell_type": "markdown",
   "metadata": {},
   "source": [
    "<h3>get_nhbr</h3>"
   ]
  },
  {
   "cell_type": "markdown",
   "metadata": {},
   "source": [
    "In the cell below, you are to write a function called \"get_nhbr(lst, graph)\" that takes in two inputs:  a list of vertices and a graph.  The function is to return a list that contains the neighborhood of the vertices in 'lst' (remember that this means you are finding the union of the individual vertices' neighborhoods)."
   ]
  },
  {
   "cell_type": "code",
   "execution_count": 2,
   "metadata": {},
   "outputs": [],
   "source": [
    "def get_nhbr(lst, graph):\n",
    "    nhbrs = [] # empty list that will store all the neighbors of the inputted vertices\n",
    "    for vert in lst:  # loops through list and appends every vertex that is a neighbor of the vertex in nhbrs\n",
    "        nhbrs.append(graph[vert])\n",
    "    return sorted(list(set(sum(nhbrs, [])))) # parenthesis hell, but gets the job done  "
   ]
  },
  {
   "cell_type": "markdown",
   "metadata": {},
   "source": [
    "After compiling the above cell, you should be able to compile the following cell and obtain the desired outputs."
   ]
  },
  {
   "cell_type": "code",
   "execution_count": 3,
   "metadata": {},
   "outputs": [
    {
     "name": "stdout",
     "output_type": "stream",
     "text": [
      "[] ['A', 'B', 'D', 'E'] ['B'] ['A', 'D', 'E']\n"
     ]
    }
   ],
   "source": [
    "print(get_nhbr([\"A\", \"D\"], {\"A\" : [\"B\"], \"B\" : [\"A\", \"D\", \"E\"], \"C\" : [\"E\"], \"D\":[\"B\"], \"E\":[\"B\",\"C\",\"F\"], \"F\":[\"E\"]}),\n",
    "      get_nhbr([\"B\", \"C\", \"F\"], {\"A\" : [\"B\"], \"B\" : [\"A\", \"D\", \"E\"], \"C\" : [\"E\"], \"D\":[\"B\"], \"E\":[\"B\",\"C\",\"F\"], \"F\":[\"E\"]}))\n"
   ]
  },
  {
   "cell_type": "markdown",
   "metadata": {},
   "source": [
    "This should return\n",
    "\n",
    "[\"B\"]   [\"A\", \"D\", \"E\"]"
   ]
  },
  {
   "cell_type": "markdown",
   "metadata": {},
   "source": [
    "<h3>partite_sets</h3>"
   ]
  },
  {
   "cell_type": "markdown",
   "metadata": {},
   "source": [
    "In the cell below, you are to write a function \"partite_sets(graph)\" that takes in a BIPARTITE graph as its input, and\n",
    "then returns a single list whose two entries are the partite sets of the graph as lists (the order of the sets outputed does not matter)."
   ]
  },
  {
   "cell_type": "code",
   "execution_count": 4,
   "metadata": {},
   "outputs": [],
   "source": [
    "def partite_sets(graph):\n",
    "    pSets = [] # this list will hold the two partite sets. This will work for every graph inputted that is bipartite\n",
    "    for v in graph: # loops through the graph\n",
    "        if(graph[v] not in pSets):  # if the neighbors of this vertex is not already in the list, add it\n",
    "            pSets.append(graph[v])\n",
    "                \n",
    "    return pSets"
   ]
  },
  {
   "cell_type": "markdown",
   "metadata": {},
   "source": [
    "After compiling the above cell, you should be able to compile the following cell and obtain the desired outputs."
   ]
  },
  {
   "cell_type": "code",
   "execution_count": 16,
   "metadata": {},
   "outputs": [
    {
     "name": "stdout",
     "output_type": "stream",
     "text": [
      "[['B'], ['A']] [['B', 'C', 'D'], ['A']] [['B', 'C'], ['A']] [['B', 'C'], ['A', 'C'], ['A', 'B']] [['B', 'C'], ['A', 'D']] [['B', 'C'], ['A']]\n"
     ]
    }
   ],
   "source": [
    "print(partite_sets({\"A\": [\"B\"], \"B\": [\"A\"]}),\n",
    "      partite_sets({\"A\": [\"B\", \"C\", \"D\"], \"B\": [\"A\"], \"C\": [\"A\"], \"D\": [\"A\"]}),\n",
    "      partite_sets({\"A\" : [\"B\", \"C\"], \"B\" : [\"A\"], \"C\" : [\"A\"]}),\n",
    "      partite_sets({\"A\": [\"B\", \"C\"], \"B\" : [\"A\", \"C\"], \"C\" : [\"A\", \"B\"]}),\n",
    "      partite_sets({\"A\" : [\"B\", \"C\"], \"B\" : [\"A\", \"D\"], \"C\" : [\"A\", \"D\"], \"D\" : [\"B\", \"C\"]}),\n",
    "     partite_sets({\"A\": [\"B\", \"C\"], \"B\": [\"A\"], \"C\":[\"A\"]}))"
   ]
  },
  {
   "cell_type": "markdown",
   "metadata": {},
   "source": [
    "This should return \n",
    "\n",
    "[[\"B\",\"C\"], [\"A\"]]   [[\"A\",\"D\"], [\"B\",\"C\"]]   (the order in which the entries appear does not matter)"
   ]
  },
  {
   "cell_type": "markdown",
   "metadata": {},
   "source": [
    "<h3>is_bipartite</h3>"
   ]
  },
  {
   "cell_type": "markdown",
   "metadata": {},
   "source": [
    "In the cell below, you are to write a function \"is_bipartite(graph)\" that takes in a graph as its input, and then determines\n",
    "whether or not the graph is bipartite. In other words, it returns True if it is, and False if it is not."
   ]
  },
  {
   "cell_type": "code",
   "execution_count": 12,
   "metadata": {},
   "outputs": [],
   "source": [
    "def is_bipartite(graph):\n",
    "    if(len(partite_sets(graph)) == 2):  # there are only supposed to be 2 partite lists from the graph, x and y.\n",
    "        return True\n",
    "    else:  # if there is not 2 lists, then return false\n",
    "        return False, partite_sets(graph)"
   ]
  },
  {
   "cell_type": "markdown",
   "metadata": {},
   "source": [
    "After compiling the above cell, you should be able to compile the following cell and obtain the desired outputs."
   ]
  },
  {
   "cell_type": "code",
   "execution_count": 13,
   "metadata": {},
   "outputs": [
    {
     "name": "stdout",
     "output_type": "stream",
     "text": [
      "True True True True True (False, [['B', 'C'], ['A', 'C'], ['A', 'B']]) (False, [['B', 'C', 'D'], ['A', 'C', 'D'], ['A', 'B', 'D'], ['A', 'B', 'C']]) True\n"
     ]
    }
   ],
   "source": [
    "print(is_bipartite({\"A\" : [\"B\"], \"B\" : [\"A\"]}),\n",
    "      is_bipartite({\"A\" : [\"B\", \"C\", \"D\"], \"B\" : [\"A\"], \"C\" : [\"A\"], \"D\" : [\"A\"]}),\n",
    "      is_bipartite({\"A\" : [\"B\", \"C\"], \"B\" : [\"A\"], \"C\" : [\"A\"]}),\n",
    "      is_bipartite({\"A\" : [\"B\", \"C\"], \"B\" : [\"A\", \"D\"], \"C\" : [\"A\", \"D\"], \"D\" : [\"B\", \"C\"]}),\n",
    "      is_bipartite({\"A\" : [\"B\", \"C\"], \"B\" : [\"A\"], \"C\" : [\"A\"]}),\n",
    "      is_bipartite({\"A\" : [\"B\", \"C\"], \"B\" : [\"A\", \"C\"], \"C\" : [\"A\", \"B\"]}),\n",
    "      is_bipartite({\"A\" : [\"B\", \"C\", \"D\"], \"B\" : [\"A\", \"C\", \"D\"], \"C\" : [\"A\", \"B\", \"D\"], \"D\" : [\"A\", \"B\", \"C\"]}),\n",
    "      is_bipartite({\"A\" : [\"B\", \"C\"], \"B\" : [\"A\"], \"C\" : [\"A\"]}))"
   ]
  },
  {
   "cell_type": "markdown",
   "metadata": {},
   "source": [
    "This should return\n",
    "\n",
    "True  False"
   ]
  },
  {
   "cell_type": "markdown",
   "metadata": {},
   "source": [
    "<h3>power</h3>"
   ]
  },
  {
   "cell_type": "markdown",
   "metadata": {},
   "source": [
    "In the cell below, you are to write a function \"power(list)\" that takes in a list as its input, and then returns the power set\n",
    "of that list. You may assume that the input will not have any duplicates (i.e., it's a set)."
   ]
  },
  {
   "cell_type": "code",
   "execution_count": 7,
   "metadata": {},
   "outputs": [],
   "source": [
    "def power(lst):\n",
    "    if len(lst) < 1: # handles an inputted empty list and just returns an empty list\n",
    "        return []\n",
    "    \n",
    "    power_set=[[]]  # otherwise, initialize the power set with an empty set and start power set function below\n",
    "    for vert in lst:  # iterate over the sub sets so far\n",
    "        for sub_set in power_set:  # add a new subset consisting of the subset at hand added elem\n",
    "            power_set = power_set + [list(sub_set) + [vert]]\n",
    "    return power_set"
   ]
  },
  {
   "cell_type": "markdown",
   "metadata": {},
   "source": [
    "After compiling the above cell, you should be able to compile the following cell and obtain the desired outputs."
   ]
  },
  {
   "cell_type": "code",
   "execution_count": 8,
   "metadata": {},
   "outputs": [
    {
     "name": "stdout",
     "output_type": "stream",
     "text": [
      "[[], ['A'], ['B'], ['A', 'B']] [[], ['A'], ['B'], ['A', 'B'], ['C'], ['A', 'C'], ['B', 'C'], ['A', 'B', 'C']]\n"
     ]
    }
   ],
   "source": [
    "print(power([\"A\", \"B\"]),\n",
    "      power([\"A\", \"B\", \"C\"]))"
   ]
  },
  {
   "cell_type": "markdown",
   "metadata": {},
   "source": [
    "This should return\n",
    "\n",
    "[[], [\"A\"], [\"B\"], [\"A\", \"B\"]]     [[], [\"A\"], [\"B\"], [\"C\"], [\"A\", \"B\"], [\"A\", \"C\"], [\"B\", \"C\"], [\"A\", \"B\", \"C\"]]   (the order in which the 'sets' appear does not matter, just that they are all there)"
   ]
  },
  {
   "cell_type": "markdown",
   "metadata": {},
   "source": [
    "<h3>has_perfect</h3>"
   ]
  },
  {
   "cell_type": "markdown",
   "metadata": {},
   "source": [
    "You are to write a function has \"perfect(graph)\" that takes in a BIPARTITE graph as its input, and\n",
    "then determintes whether or not the graph has a perfect matching. In other words, it will return the Boolean\n",
    "value True if it has one, and False if it does not."
   ]
  },
  {
   "cell_type": "code",
   "execution_count": 9,
   "metadata": {},
   "outputs": [],
   "source": [
    "def has_perfect(graph):\n",
    "    xSet = partite_sets(graph)[0]  # gets the x set of the bipartite graph\n",
    "    ySet = partite_sets(graph)[1]  # gets the y set of the bipartite graph\n",
    "    \n",
    "    # these next two loops are essentially testing theorem 4.5.4 on the graph\n",
    "    for x in xSet:  # loops through every vertex in the xSet\n",
    "        if(len(get_nhbr(x, graph)) < len(xSet)):  # if any x vertex has less neighbors then it has x vertices, this graph does not have a perfect matching. return false and exit program\n",
    "            return False\n",
    "    for y in ySet:  # loops through every vertex in the ySet\n",
    "        if(len(get_nhbr(y, graph)) < len(ySet)):\n",
    "            return False\n",
    "    \n",
    "    return True  # if the program reaches this far then both sets pass the theorem. meaning that this graph has a perfect matching"
   ]
  },
  {
   "cell_type": "markdown",
   "metadata": {},
   "source": [
    "After compiling the above cell, you should be able to compile the following cell and obtain the desired outputs."
   ]
  },
  {
   "cell_type": "code",
   "execution_count": 10,
   "metadata": {},
   "outputs": [
    {
     "name": "stdout",
     "output_type": "stream",
     "text": [
      "True False\n"
     ]
    }
   ],
   "source": [
    "print(has_perfect({\"A\" : [\"B\", \"C\"], \"B\" : [\"A\", \"D\"], \"C\" : [\"A\", \"D\"], \"D\" : [\"B\", \"C\"]}),\n",
    "      has_perfect({\"A\" : [\"B\"], \"B\" : [\"A\", \"D\", \"E\"], \"C\" : [\"E\"], \"D\":[\"B\"], \"E\":[\"B\",\"C\",\"F\"], \"F\":[\"E\"]}))"
   ]
  },
  {
   "cell_type": "markdown",
   "metadata": {},
   "source": [
    "This should return\n",
    "\n",
    "True   False"
   ]
  }
 ],
 "metadata": {
  "anaconda-cloud": {},
  "kernelspec": {
   "display_name": "Python 3",
   "language": "python",
   "name": "python3"
  },
  "language_info": {
   "codemirror_mode": {
    "name": "ipython",
    "version": 3
   },
   "file_extension": ".py",
   "mimetype": "text/x-python",
   "name": "python",
   "nbconvert_exporter": "python",
   "pygments_lexer": "ipython3",
   "version": "3.7.0"
  }
 },
 "nbformat": 4,
 "nbformat_minor": 1
}
