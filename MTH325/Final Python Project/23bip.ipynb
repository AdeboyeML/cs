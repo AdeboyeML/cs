{
 "cells": [
  {
   "cell_type": "markdown",
   "metadata": {},
   "source": [
    "<h1>Bipartite Graphs and Matchings</h1>"
   ]
  },
  {
   "cell_type": "markdown",
   "metadata": {},
   "source": [
    "The purpose of this project is for you to write code that tests whether or not a given bipartite graph has\n",
    "a perfect matching. In addition, you will write code that determines whether or not a graph is bipartite. The\n",
    "ONLY IMPORT ALLOWED is  \"copy\" and you are ONLY allowed to use the copy.deepcopy() method from this package.  All of your code should be 'from scracth.'  \n",
    "\n",
    "Primarily worked on by Matthew Shan and Trent Winger "
   ]
  },
  {
   "cell_type": "markdown",
   "metadata": {},
   "source": [
    "<h2>Objectives</h2>"
   ]
  },
  {
   "cell_type": "markdown",
   "metadata": {},
   "source": [
    "<h3>get_nhbr</h3>"
   ]
  },
  {
   "cell_type": "markdown",
   "metadata": {},
   "source": [
    "In the cell below, you are to write a function called \"get_nhbr(lst, graph)\" that takes in two inputs:  a list of vertices and a graph.  The function is to return a list that contains the neighborhood of the vertices in 'lst' (remember that this means you are finding the union of the individual vertices' neighborhoods)."
   ]
  },
  {
   "cell_type": "code",
   "execution_count": 22,
   "metadata": {},
   "outputs": [],
   "source": [
    "def  get_nhbr(lst, graph):\n",
    "    list = []\n",
    "    for x in lst:\n",
    "        ver = graph[x]\n",
    "        for y in ver:\n",
    "            if y not in list:\n",
    "                list.append(y)\n",
    "    return list    "
   ]
  },
  {
   "cell_type": "markdown",
   "metadata": {},
   "source": [
    "After compiling the above cell, you should be able to compile the following cell and obtain the desired outputs."
   ]
  },
  {
   "cell_type": "code",
   "execution_count": 23,
   "metadata": {
    "scrolled": true
   },
   "outputs": [
    {
     "name": "stdout",
     "output_type": "stream",
     "text": [
      "[] ['B', 'E', 'A', 'D'] ['B'] ['A', 'D', 'E']\n"
     ]
    }
   ],
   "source": [
    "print(get_nhbr([\"A\", \"B\", \"C\", \"D\"], {\"A\":[], \"B\":[], \"C\":[], \"D\":[]}),\n",
    "      get_nhbr([\"A\", \"C\", \"E\"], {\"A\" : [\"B\"], \"B\" : [\"A\", \"D\", \"E\"], \"C\": [\"B\", \"E\"], \"D\": [\"A\", \"B\"], \"E\": [\"A\", \"D\", \"E\"]}),\n",
    "      get_nhbr([\"A\", \"D\"], {\"A\" : [\"B\"], \"B\" : [\"A\", \"D\", \"E\"], \"C\" : [\"E\"], \"D\":[\"B\"], \"E\":[\"B\",\"C\",\"F\"], \"F\":[\"E\"]}),\n",
    "      get_nhbr([\"B\", \"C\", \"F\"], {\"A\" : [\"B\"], \"B\" : [\"A\", \"D\", \"E\"], \"C\" : [\"E\"], \"D\":[\"B\"], \"E\":[\"B\",\"C\",\"F\"], \"F\":[\"E\"]}))\n"
   ]
  },
  {
   "cell_type": "markdown",
   "metadata": {},
   "source": [
    "This should return\n",
    "\n",
    "[]  [\"B\", \"E\", \"A\", \"D\"]  [\"B\"]   [\"A\", \"D\", \"E\"]"
   ]
  },
  {
   "cell_type": "markdown",
   "metadata": {},
   "source": [
    "<h3>partite_sets</h3>"
   ]
  },
  {
   "cell_type": "markdown",
   "metadata": {},
   "source": [
    "In the cell below, you are to write a function \"partite_sets(graph)\" that takes in a BIPARTITE graph as its input, and\n",
    "then returns a single list whose two entries are the partite sets of the graph as lists (the order of the sets outputed does not matter)."
   ]
  },
  {
   "cell_type": "code",
   "execution_count": 40,
   "metadata": {},
   "outputs": [],
   "source": [
    "def partite_sets(graph):\n",
    "    q = []\n",
    "    x = []\n",
    "    y = []\n",
    "    l = []\n",
    "\n",
    "    for v in graph:\n",
    "        q.append(v)\n",
    "\n",
    "    x.append(q[0])\n",
    "\n",
    "    while q:\n",
    "        for v in x:\n",
    "            for a in graph[v]:\n",
    "                if a not in y:\n",
    "                    y.append(a)\n",
    "                if a in q:\n",
    "                    q.remove(a)\n",
    "\n",
    "        for v in y:\n",
    "            for a in graph[v]:\n",
    "                if a not in x:\n",
    "                    x.append(a)\n",
    "                if a in q:\n",
    "                    q.remove(a)\n",
    "    l.append(x)\n",
    "    l.append(y)\n",
    "    return l \n",
    "            \n",
    "    "
   ]
  },
  {
   "cell_type": "markdown",
   "metadata": {},
   "source": [
    "After compiling the above cell, you should be able to compile the following cell and obtain the desired outputs."
   ]
  },
  {
   "cell_type": "code",
   "execution_count": 41,
   "metadata": {
    "scrolled": true
   },
   "outputs": [
    {
     "name": "stdout",
     "output_type": "stream",
     "text": [
      "[['A'], ['B']] [['A'], ['B', 'C', 'D']] [['A'], ['B', 'C']] [['A', 'C', 'B'], ['B', 'C']] [['A', 'D'], ['B', 'C']]\n"
     ]
    }
   ],
   "source": [
    "print(partite_sets({\"A\": [\"B\"], \"B\": [\"A\"]}),\n",
    "      partite_sets({\"A\": [\"B\", \"C\", \"D\"], \"B\": [\"A\"], \"C\": [\"A\"], \"D\": [\"A\"]}),\n",
    "      partite_sets({\"A\" : [\"B\", \"C\"], \"B\" : [\"A\"], \"C\" : [\"A\"]}),\n",
    "      partite_sets({\"A\": [\"B\", \"C\"], \"B\" : [\"A\", \"C\"], \"C\" : [\"A\", \"B\"]}),\n",
    "      partite_sets({\"A\" : [\"B\", \"C\"], \"B\" : [\"A\", \"D\"], \"C\" : [\"A\", \"D\"], \"D\" : [\"B\", \"C\"]}))"
   ]
  },
  {
   "cell_type": "markdown",
   "metadata": {},
   "source": [
    "This should return \n",
    "\n",
    "[['A'], ['B']]  [[\"A\"], [\"B\", \"C\", \"D\"]]  [[\"B\",\"C\"], [\"A\"]]   [[\"A\",\"D\"], [\"B\",\"C\"]]   (the order in which the entries appear does not matter)"
   ]
  },
  {
   "cell_type": "markdown",
   "metadata": {},
   "source": [
    "<h3>is_bipartite</h3>"
   ]
  },
  {
   "cell_type": "markdown",
   "metadata": {},
   "source": [
    "In the cell below, you are to write a function \"is_bipartite(graph)\" that takes in a graph as its input, and then determines\n",
    "whether or not the graph is bipartite. In other words, it returns True if it is, and False if it is not."
   ]
  },
  {
   "cell_type": "code",
   "execution_count": 26,
   "metadata": {},
   "outputs": [],
   "source": [
    "def is_bipartite(graph):\n",
    "    val = True\n",
    "    temp = partite_sets(graph)\n",
    "    x = temp[0]\n",
    "    y = temp[1]\n",
    "    for vex in x:\n",
    "        if vex in y:\n",
    "            val = False\n",
    "    return val\n",
    "            "
   ]
  },
  {
   "cell_type": "markdown",
   "metadata": {},
   "source": [
    "After compiling the above cell, you should be able to compile the following cell and obtain the desired outputs."
   ]
  },
  {
   "cell_type": "code",
   "execution_count": 27,
   "metadata": {},
   "outputs": [
    {
     "name": "stdout",
     "output_type": "stream",
     "text": [
      "True True True True True False False True\n"
     ]
    }
   ],
   "source": [
    "print(is_bipartite({\"A\" : [\"B\"], \"B\" : [\"A\"]}),\n",
    "      is_bipartite({\"A\" : [\"B\", \"C\", \"D\"], \"B\" : [\"A\"], \"C\" : [\"A\"], \"D\" : [\"A\"]}),\n",
    "      is_bipartite({\"A\" : [\"B\", \"C\"], \"B\" : [\"A\"], \"C\" : [\"A\"]}),\n",
    "      is_bipartite({\"A\" : [\"B\", \"C\"], \"B\" : [\"A\", \"D\"], \"C\" : [\"A\", \"D\"], \"D\" : [\"B\", \"C\"]}),\n",
    "      is_bipartite({\"A\" : [\"B\", \"C\"], \"B\" : [\"A\"], \"C\" : [\"A\"]}),\n",
    "      is_bipartite({\"A\" : [\"B\", \"C\"], \"B\" : [\"A\", \"C\"], \"C\" : [\"A\", \"B\"]}),\n",
    "      is_bipartite({\"A\" : [\"B\", \"C\", \"D\"], \"B\" : [\"A\", \"C\", \"D\"], \"C\" : [\"A\", \"B\", \"D\"], \"D\" : [\"A\", \"B\", \"C\"]}),\n",
    "      is_bipartite({\"A\" : [\"B\", \"C\"], \"B\" : [\"A\"], \"C\" : [\"A\"]}))\n",
    "      "
   ]
  },
  {
   "cell_type": "markdown",
   "metadata": {},
   "source": [
    "This should return\n",
    "\n",
    "True True True True True False False True"
   ]
  },
  {
   "cell_type": "markdown",
   "metadata": {},
   "source": [
    "<h3>power</h3>"
   ]
  },
  {
   "cell_type": "markdown",
   "metadata": {},
   "source": [
    "In the cell below, you are to write a function \"power(list)\" that takes in a list as its input, and then returns the power set\n",
    "of that list. You may assume that the input will not have any duplicates (i.e., it's a set)."
   ]
  },
  {
   "cell_type": "code",
   "execution_count": 28,
   "metadata": {},
   "outputs": [],
   "source": [
    "def power(list_a):\n",
    "    result = [[]]\n",
    "    for vex in list_a:\n",
    "        result.append([vex])\n",
    "        length = len(result) \n",
    "        for i in range(length):\n",
    "            if vex not in result[i]:\n",
    "                temp = [vex]\n",
    "                temp.extend(result[i])\n",
    "                if temp not in result:\n",
    "                    result.append(temp)\n",
    "    return result     \n",
    "    "
   ]
  },
  {
   "cell_type": "markdown",
   "metadata": {},
   "source": [
    "After compiling the above cell, you should be able to compile the following cell and obtain the desired outputs."
   ]
  },
  {
   "cell_type": "code",
   "execution_count": 29,
   "metadata": {},
   "outputs": [
    {
     "name": "stdout",
     "output_type": "stream",
     "text": [
      "[[], ['A'], ['B'], ['B', 'A']] [[], ['A'], ['B'], ['B', 'A'], ['C'], ['C', 'A'], ['C', 'B'], ['C', 'B', 'A']] [[], ['A'], ['B'], ['B', 'A'], ['C'], ['C', 'A'], ['C', 'B'], ['C', 'B', 'A'], ['D'], ['D', 'A'], ['D', 'B'], ['D', 'B', 'A'], ['D', 'C'], ['D', 'C', 'A'], ['D', 'C', 'B'], ['D', 'C', 'B', 'A']]\n"
     ]
    }
   ],
   "source": [
    "print(power([\"A\", \"B\"]),\n",
    "      power([\"A\", \"B\", \"C\"]),\n",
    "      power([\"A\", \"B\", \"C\", \"D\"]))\n",
    "       "
   ]
  },
  {
   "cell_type": "markdown",
   "metadata": {},
   "source": [
    "This should return\n",
    "\n",
    "[[], [\"A\"], [\"B\"], [\"A\", \"B\"]]     [[], [\"A\"], [\"B\"], [\"C\"], [\"A\", \"B\"], [\"A\", \"C\"], [\"B\", \"C\"], [\"A\", \"B\", \"C\"]]   (the order in which the 'sets' appear does not matter, just that they are all there)"
   ]
  },
  {
   "cell_type": "markdown",
   "metadata": {},
   "source": [
    "<h3>has_perfect</h3>"
   ]
  },
  {
   "cell_type": "markdown",
   "metadata": {},
   "source": [
    "You are to write a function has \"perfect(graph)\" that takes in a BIPARTITE graph as its input, and\n",
    "then determintes whether or not the graph has a perfect matching. In other words, it will return the Boolean\n",
    "value True if it has one, and False if it does not."
   ]
  },
  {
   "cell_type": "code",
   "execution_count": 44,
   "metadata": {},
   "outputs": [],
   "source": [
    "def has_perfect(graph):\n",
    "    sets = partite_sets(graph)\n",
    "    for i in sets:\n",
    "        temp = power(i)\n",
    "        for subset in temp:\n",
    "            nhbr = get_nhbr(subset,graph)\n",
    "            if len(subset) > len(nhbr):\n",
    "                return False\n",
    "    return True\n",
    "        \n",
    "    "
   ]
  },
  {
   "cell_type": "markdown",
   "metadata": {},
   "source": [
    "After compiling the above cell, you should be able to compile the following cell and obtain the desired outputs."
   ]
  },
  {
   "cell_type": "code",
   "execution_count": 45,
   "metadata": {},
   "outputs": [
    {
     "name": "stdout",
     "output_type": "stream",
     "text": [
      "True False True False False True True\n"
     ]
    }
   ],
   "source": [
    "print(has_perfect({\"A\" : [\"B\", \"C\"], \"B\" : [\"A\", \"D\"], \"C\" : [\"A\", \"D\"], \"D\" : [\"B\", \"C\"]}),\n",
    "      has_perfect({\"A\" : [\"B\"], \"B\" : [\"A\", \"D\", \"E\"], \"C\" : [\"E\"], \"D\":[\"B\"], \"E\":[\"B\",\"C\",\"F\"], \"F\":[\"E\"]}),\n",
    "      has_perfect({\"A\" : [\"B\"], \"B\" : [\"A\"]}),\n",
    "      has_perfect({\"A\" : [\"B\", \"C\", \"D\"], \"B\" : [\"A\"], \"C\" : [\"A\"], \"D\" : [\"A\"]}),\n",
    "      has_perfect({\"A\" : [\"B\", \"C\"], \"B\" : [\"A\"], \"C\" : [\"A\"]}),\n",
    "      has_perfect({\"A\" : [\"B\", \"C\"], \"B\" : [\"A\", \"D\"], \"C\" : [\"A\", \"D\"], \"D\" : [\"B\", \"C\"]}),\n",
    "      has_perfect({\"A\" : [\"B\", \"C\", \"D\"], \"B\" : [\"A\", \"C\", \"D\"], \"C\" : [\"A\", \"B\", \"D\"], \"D\" : [\"A\", \"B\", \"C\"]}))"
   ]
  },
  {
   "cell_type": "markdown",
   "metadata": {},
   "source": [
    "This should return\n",
    "\n",
    "True   False   True  False  False   True   True"
   ]
  }
 ],
 "metadata": {
  "anaconda-cloud": {},
  "kernelspec": {
   "display_name": "Python 3",
   "language": "python",
   "name": "python3"
  },
  "language_info": {
   "codemirror_mode": {
    "name": "ipython",
    "version": 3
   },
   "file_extension": ".py",
   "mimetype": "text/x-python",
   "name": "python",
   "nbconvert_exporter": "python",
   "pygments_lexer": "ipython3",
   "version": "3.7.0"
  }
 },
 "nbformat": 4,
 "nbformat_minor": 1
}
